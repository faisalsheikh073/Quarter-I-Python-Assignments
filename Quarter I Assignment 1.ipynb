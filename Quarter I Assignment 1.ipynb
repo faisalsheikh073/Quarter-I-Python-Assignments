{
 "cells": [
  {
   "cell_type": "code",
   "execution_count": null,
   "metadata": {},
   "outputs": [],
   "source": [
    "#Calculate Area of a Circle\n",
    "#Write a Python program which accepts the radius of a circle from the user and compute the area.\n",
    "     \n",
    "#Program Console Sample Output 1:\n",
    "#Input Radius: 0.5\n",
    "#Area of Circle with radius 0.5 is 0.7853981634\n",
    "\n",
    "\n",
    "PI = 3.14\n",
    "radius = float(input(' Please Enter the radius of a circle: '))\n",
    "area = PI * radius * radius\n",
    "circumference = 2 * PI * radius\n",
    "\n",
    "print(\" Area Of a Circle = %.2f\" %area)\n",
    "print(\" Circumference Of a Circle = %.2f\" %circumference)"
   ]
  },
  {
   "cell_type": "code",
   "execution_count": null,
   "metadata": {},
   "outputs": [],
   "source": [
    "#Check Number either positive, negative or zero\n",
    "#Write a Python program to check if a number is positive, negative or zero\n",
    "\n",
    "#Program Console Sample Output 1:\n",
    "#Enter Number: -1\n",
    "#Negative Number Entered\n",
    "\n",
    "#Program Console Sample Output 2:\n",
    "#Integer: 3\n",
    "#Positive Number Entered\n",
    "\n",
    "#Program Console Sample Output 3:\n",
    "#Integer: 0\n",
    "#Zero Entered\n",
    "\n",
    "num = float(input(\"Enter a number: \"))\n",
    "if num > 0:\n",
    "   print(\"Positive number\")\n",
    "elif num == 0:\n",
    "   print(\"Zero\")\n",
    "else:\n",
    "   print(\"Negative number\")"
   ]
  },
  {
   "cell_type": "code",
   "execution_count": null,
   "metadata": {},
   "outputs": [],
   "source": [
    "# Divisibility Check of two numbers\n",
    "# Write a Python program to check whether a number is completely divisible by another number.\n",
    "# Accept two integer values form the user\n",
    "\n",
    "num = float(input(' Enter Numerator: '))\n",
    "denum = float(input(' Enter Denominator: '))\n",
    "div = num % denum\n",
    "\n",
    "if div == 0:\n",
    "    print(\"Number\",num,\"is completely divisible by\",denum)\n",
    "else:\n",
    "    print(\"Number\",num,\"is not completely divisible by\",denum)"
   ]
  },
  {
   "cell_type": "code",
   "execution_count": 1,
   "metadata": {},
   "outputs": [
    {
     "name": "stdout",
     "output_type": "stream",
     "text": [
      " Enter a date in (dd/mm/yy) format: 10\n",
      " Enter a date in (dd/mm/yy) format: 5\n"
     ]
    },
    {
     "ename": "TypeError",
     "evalue": "unsupported operand type(s) for -: 'str' and 'str'",
     "output_type": "error",
     "traceback": [
      "\u001b[1;31m---------------------------------------------------------------------------\u001b[0m",
      "\u001b[1;31mTypeError\u001b[0m                                 Traceback (most recent call last)",
      "\u001b[1;32m<ipython-input-1-c026603e4e71>\u001b[0m in \u001b[0;36m<module>\u001b[1;34m\u001b[0m\n\u001b[0;32m      4\u001b[0m \u001b[0mstart\u001b[0m \u001b[1;33m=\u001b[0m \u001b[0minput\u001b[0m\u001b[1;33m(\u001b[0m\u001b[1;34m' Enter a date in (dd/mm/yy) format: '\u001b[0m\u001b[1;33m)\u001b[0m\u001b[1;33m\u001b[0m\u001b[1;33m\u001b[0m\u001b[0m\n\u001b[0;32m      5\u001b[0m \u001b[0mend\u001b[0m \u001b[1;33m=\u001b[0m \u001b[0minput\u001b[0m\u001b[1;33m(\u001b[0m\u001b[1;34m' Enter a date in (dd/mm/yy) format: '\u001b[0m\u001b[1;33m)\u001b[0m\u001b[1;33m\u001b[0m\u001b[1;33m\u001b[0m\u001b[0m\n\u001b[1;32m----> 6\u001b[1;33m \u001b[0mdelta\u001b[0m \u001b[1;33m=\u001b[0m \u001b[0mstart\u001b[0m \u001b[1;33m-\u001b[0m \u001b[0mend\u001b[0m\u001b[1;33m\u001b[0m\u001b[1;33m\u001b[0m\u001b[0m\n\u001b[0m\u001b[0;32m      7\u001b[0m \u001b[1;33m\u001b[0m\u001b[0m\n\u001b[0;32m      8\u001b[0m \u001b[0mprint\u001b[0m\u001b[1;33m(\u001b[0m\u001b[1;34m\"There are\"\u001b[0m\u001b[1;33m,\u001b[0m\u001b[0mdelta\u001b[0m\u001b[1;33m,\u001b[0m\u001b[1;34m\"days in between\"\u001b[0m\u001b[1;33m,\u001b[0m\u001b[0mstart\u001b[0m\u001b[1;33m,\u001b[0m\u001b[1;34m\"and\"\u001b[0m\u001b[1;33m,\u001b[0m\u001b[0mend\u001b[0m\u001b[1;33m)\u001b[0m\u001b[1;33m\u001b[0m\u001b[1;33m\u001b[0m\u001b[0m\n",
      "\u001b[1;31mTypeError\u001b[0m: unsupported operand type(s) for -: 'str' and 'str'"
     ]
    }
   ],
   "source": [
    "# Days Calculator\n",
    "# Write a Python program to calculate number of days between two dates\n",
    "\n",
    "start = input(' Enter a date in (dd/mm/yy) format: ')\n",
    "end = input(' Enter a date in (dd/mm/yy) format: ')\n",
    "delta = start - end\n",
    "\n",
    "print(\"There are\",delta,\"days in between\",start,\"and\",end)\n"
   ]
  },
  {
   "cell_type": "code",
   "execution_count": 8,
   "metadata": {},
   "outputs": [
    {
     "name": "stdout",
     "output_type": "stream",
     "text": [
      " Enter Radius of Sphere: 1\n",
      " Volume of the Sphere with Radius 1.0 is 4.1866666666666665\n"
     ]
    }
   ],
   "source": [
    "# Calculate Volume of a sphere\n",
    "# Write a Python program to get the volume of a sphere, please take the radius as input from user\n",
    "\n",
    "PI = 3.14\n",
    "radius = float(input(' Enter Radius of Sphere: '))\n",
    "volume = (4/3) * PI * radius * radius * radius\n",
    "\n",
    "print(\" Volume of the Sphere with Radius\",radius,\"is\",volume)\n"
   ]
  },
  {
   "cell_type": "code",
   "execution_count": 13,
   "metadata": {},
   "outputs": [
    {
     "name": "stdout",
     "output_type": "stream",
     "text": [
      "Enter String: hello\n",
      "How many copies of String you need: 6\n",
      "6 Copies of hello are hellohellohellohellohellohello\n"
     ]
    }
   ],
   "source": [
    "# Copy string n times\n",
    "# Write a Python program to get a string which is n (non-negative integer) copies of a given string. \n",
    "\n",
    "string = str(input(\"Enter String: \"))\n",
    "copies = int(input(\"How many copies of String you need: \"))\n",
    "formula = string * copies\n",
    "\n",
    "print(copies,\"Copies of\",string,\"are\",formula)\n",
    "\n"
   ]
  },
  {
   "cell_type": "code",
   "execution_count": 1,
   "metadata": {},
   "outputs": [
    {
     "name": "stdout",
     "output_type": "stream",
     "text": [
      "Enter number: 5\n",
      "5 is Odd\n"
     ]
    }
   ],
   "source": [
    "# Check if number is Even or Odd\n",
    "# Write a Python program to find whether a given number (accept from the user) is even or odd, \n",
    "# print out an appropriate message to the user\n",
    "\n",
    "number = int(input(\"Enter number: \"))\n",
    "if (number % 2) == 0:\n",
    "   print(\"{0} is Even\".format(number))\n",
    "else:\n",
    "   print(\"{0} is Odd\".format(number))\n"
   ]
  },
  {
   "cell_type": "code",
   "execution_count": null,
   "metadata": {},
   "outputs": [],
   "source": [
    "# Vowel Tester\n",
    "# Write a Python program to test whether a passed letter is a vowel or not\n",
    "\n",
    "l = input(\"Enter a character:  \")\n",
    "\n",
    "if l in ('a', 'e', 'i', 'o', 'u'):\n",
    "    print(\"Letter %s is Vowel.\" % l)\n",
    "else:\n",
    "    print(\"Letter %s is not Vowel.\" % l) \n"
   ]
  },
  {
   "cell_type": "code",
   "execution_count": null,
   "metadata": {},
   "outputs": [],
   "source": [
    "# Triangle area\n",
    "# Write a Python program that will accept the base and height of a triangle and compute the area\n",
    "\n",
    "base = float(input(' Enter magnitude of Triangle base: '))\n",
    "height = float(input(' Enter Magnitude of Triangle Height: '))\n",
    "area = (1/2) * base * height\n",
    "\n",
    "print(\" Area of a Triangle with Height\",height,\"and Base\",base,\"is\",area)"
   ]
  },
  {
   "cell_type": "code",
   "execution_count": 9,
   "metadata": {},
   "outputs": [
    {
     "name": "stdout",
     "output_type": "stream",
     "text": [
      " Please enter principal amount: 100000\n",
      " Please Enter Rate of interest in %: 3.25\n",
      " Enter number of years for investment: 5\n",
      " After 5 years your principal amount 100000 over an interest rate of 3.25 % will be 16250.0\n"
     ]
    }
   ],
   "source": [
    "# Calculate Interest\n",
    "# Write a Python program to compute the future value of a specified principal amount, rate of interest, and a number of years\n",
    "\n",
    "amount = int(input(' Please enter principal amount: '))\n",
    "interest = float(input(' Please Enter Rate of interest in %: '))\n",
    "years = int(input(' Enter number of years for investment: '))\n",
    "futurevalue = (amount * years * interest) / 100\n",
    "\n",
    "print(\" After\",years,\"years your principal amount\",amount,\"over an interest rate of\",interest,\"% will be\",futurevalue)"
   ]
  },
  {
   "cell_type": "code",
   "execution_count": 23,
   "metadata": {},
   "outputs": [
    {
     "name": "stdout",
     "output_type": "stream",
     "text": [
      " Enter Co-ordinate for x1: 4\n",
      " Enter Co-ordinate for x2:6\n",
      " Enter Co-ordinate for y1:0\n",
      " Enter Co-ordinate for y2:6\n",
      "Distance between points (4, 0) and (6, 6) is 6.324555320336759\n"
     ]
    }
   ],
   "source": [
    "# Euclidean distance\n",
    "# Write a Python program to compute the distance between the points (x1, y1) and (x2, y2).\n",
    "\n",
    "x1 = int(input(' Enter Co-ordinate for x1: '))\n",
    "x2 = int(input(' Enter Co-ordinate for x2:'))\n",
    "y1 = int(input(' Enter Co-ordinate for y1:'))\n",
    "y2 = int(input(' Enter Co-ordinate for y2:'))\n",
    "distance = (((x2 - x1)**2 + (y2 - y1)**2))**0.5\n",
    "\n",
    "print(\"Distance between points\",(x1, y1),\"and\",(x2, y2),\"is\",distance)"
   ]
  },
  {
   "cell_type": "code",
   "execution_count": 36,
   "metadata": {},
   "outputs": [
    {
     "name": "stdout",
     "output_type": "stream",
     "text": [
      " Enter Height in Feet: 5\n",
      "There are 152.4 Cm in 5 ft\n"
     ]
    }
   ],
   "source": [
    "# Feet to Centimeter Converter\n",
    "# Write a Python program to convert height in feet to centimetres.\n",
    "\n",
    "height = int(input(' Enter Height in Feet: '))\n",
    "convert = height * 30.48\n",
    "\n",
    "print(\"There are {} Cm in {} ft\".format(convert,height))"
   ]
  },
  {
   "cell_type": "code",
   "execution_count": 47,
   "metadata": {},
   "outputs": [
    {
     "name": "stdout",
     "output_type": "stream",
     "text": [
      " Enter Height in cm: 180\n",
      " Enter Weight in Kg:  75\n",
      "Your BMI is 23.15\n"
     ]
    }
   ],
   "source": [
    "# BMI Calculator\n",
    "# Write a Python program to calculate body mass index\n",
    "\n",
    "height = int(input(' Enter Height in cm: '))\n",
    "weight = int(input(' Enter Weight in Kg:  '))\n",
    "bmi = (weight / ((height / 100) ** 2))\n",
    "\n",
    "print(\"Your BMI is {}\".format(round(bmi,2)))\n"
   ]
  },
  {
   "cell_type": "code",
   "execution_count": 49,
   "metadata": {},
   "outputs": [
    {
     "name": "stdout",
     "output_type": "stream",
     "text": [
      " Enter value of n:  6\n",
      "Sum of n Positive integers till 6 is 21.0\n"
     ]
    }
   ],
   "source": [
    "# Sum of n Positive Integers\n",
    "# Write a python program to sum of the first n positive integers\n",
    "\n",
    "integer = int(input(' Enter value of n:  '))\n",
    "sum_of_integers = integer * (integer+1) / 2 \n",
    "\n",
    "print(\"Sum of n Positive integers till {} is {}\".format(integer,sum_of_integers))"
   ]
  },
  {
   "cell_type": "code",
   "execution_count": 55,
   "metadata": {},
   "outputs": [
    {
     "name": "stdout",
     "output_type": "stream",
     "text": [
      "Please Enter any Number: 15\n",
      "\n",
      " Sum of the + is 6\n"
     ]
    }
   ],
   "source": [
    "# Digits Sum of a Number\n",
    "# Write a Python program to calculate the sum of the digits in an integer\n",
    "\n",
    "Number = int(input(\"Please Enter any Number: \"))\n",
    "Sum = 0\n",
    "\n",
    "while(Number > 0):\n",
    "    Reminder = Number % 10\n",
    "    Sum = Sum + Reminder\n",
    "    Number = Number //10\n",
    "\n",
    "print(\"\\n Sum of the {} is {}\".format(\"+\",Sum))\n"
   ]
  },
  {
   "cell_type": "code",
   "execution_count": 57,
   "metadata": {},
   "outputs": [
    {
     "name": "stdout",
     "output_type": "stream",
     "text": [
      "Enter a number: 15\n",
      "The sum of digits of number is 6\n"
     ]
    }
   ],
   "source": [
    "# taking number as string\n",
    "num = input(\"Enter a number: \")\n",
    "# initializing sum to zero\n",
    "sum = 0\n",
    "# going through every digit using every for loop\n",
    "for i in num:\n",
    "    sum += int(i)\n",
    "# printing the sum\n",
    "print(\"The sum of digits of number is\",sum)"
   ]
  },
  {
   "cell_type": "code",
   "execution_count": 7,
   "metadata": {},
   "outputs": [
    {
     "name": "stdout",
     "output_type": "stream",
     "text": [
      "Enter a decimal number 32\n",
      "Binary Representation of 32 is 100000\n"
     ]
    }
   ],
   "source": [
    "#Decimal to Binary Converter\n",
    "#Write a Python program to convert an decimal integer to binary\n",
    "\n",
    "number = num1 = int(input(\"Enter a decimal number \"))\n",
    "\n",
    "result = \"\" \n",
    "while number != 0:\n",
    "    remainder = number % 2  # gives the exact remainder\n",
    "    number = number // 2\n",
    "    result = str(remainder) + result\n",
    "print(\"Binary Representation of {} is {}\".format(num1,result))"
   ]
  },
  {
   "cell_type": "code",
   "execution_count": 33,
   "metadata": {},
   "outputs": [
    {
     "name": "stdout",
     "output_type": "stream",
     "text": [
      "Enter a Binary number 1101\n",
      "Decimal Representation of 1101 is 13\n"
     ]
    }
   ],
   "source": [
    "# Binary to Decimal Converter\n",
    "# Write a program to convert binary number to Decimal number\n",
    "\n",
    "number = input(\"Enter a Binary number \")\n",
    "n=len(number)\n",
    "i = 1\n",
    "result=0\n",
    "for i in range(1,n+1):\n",
    "    result=result+ int(number[i-1])*2**(n-i)\n",
    "print(\"Decimal Representation of {} is {}\".format(number,result))"
   ]
  },
  {
   "cell_type": "code",
   "execution_count": 37,
   "metadata": {},
   "outputs": [
    {
     "name": "stdout",
     "output_type": "stream",
     "text": [
      "Enter text : QuickBrownFoxJumpsovertheDog\n",
      "Vowels: 9\n",
      "Consonants 19\n"
     ]
    }
   ],
   "source": [
    "# Vowel and Consonants Counter\n",
    "# Input a text and count the occurrences of vowels and consonant\n",
    "\n",
    "text = input(\"Enter text : \")\n",
    "vowels = 0\n",
    "consonants = 0\n",
    "\n",
    "for i in text:\n",
    "    if(i == 'a' or i == 'e' or i == 'i' or i == 'o' or i == 'u'\n",
    "       or i == 'A' or i == 'E' or i == 'I' or i == 'O' or i == 'U'):\n",
    "        vowels = vowels + 1\n",
    "    else:\n",
    "        consonants = consonants + 1\n",
    "\n",
    "print(\"Vowels:\", vowels)\n",
    "print(\"Consonants\", consonants)"
   ]
  },
  {
   "cell_type": "code",
   "execution_count": 1,
   "metadata": {},
   "outputs": [
    {
     "name": "stdout",
     "output_type": "stream",
     "text": [
      "Enter string:malayalam\n",
      "The text malayalam is a palindrome\n"
     ]
    }
   ],
   "source": [
    "# Palindrome tester\n",
    "# Write a program to check whether given input is palindrome or not\n",
    "\n",
    "text=input(\"Enter string:\")\n",
    "if(text==text[::-1]):\n",
    "   print(\"The text {} is a palindrome\".format(text))\n",
    "else:\n",
    "   print(\"The text {} isn't a palindrome\".format(text))"
   ]
  },
  {
   "cell_type": "code",
   "execution_count": 4,
   "metadata": {},
   "outputs": [
    {
     "name": "stdout",
     "output_type": "stream",
     "text": [
      "Please Enter your Own String : kjk445 . ? =\n",
      "\n",
      "Total Number of Alphabets in this String : 3\n",
      "Total Number of Digits in this String : 3\n",
      "Total Number of Spaces in this String : 3\n",
      "Total Number of Special Characters in this String : 3\n"
     ]
    }
   ],
   "source": [
    "# Count Alphabets, Numbers and Special Characters\n",
    "# Write a Python program that accepts a string and calculate the number of digits and letters\n",
    "\n",
    "# Python program to Count Alphabets Digits and Special Characters in a String\n",
    " \n",
    "string = input(\"Please Enter your Own String : \")\n",
    "alphabets = digits = special = spaces = 0\n",
    "\n",
    "for i in range(len(string)):\n",
    "    if(string[i].isalpha()):\n",
    "        alphabets = alphabets + 1\n",
    "    elif(string[i].isdigit()):\n",
    "        digits = digits + 1\n",
    "    elif(string[i].isspace()):\n",
    "        spaces = spaces + 1\n",
    "    else:\n",
    "        special = special + 1\n",
    "        \n",
    "print(\"\\nTotal Number of Alphabets in this String :\", alphabets)\n",
    "print(\"Total Number of Digits in this String :\", digits)\n",
    "print(\"Total Number of Spaces in this String :\", spaces)\n",
    "print(\"Total Number of Special Characters in this String :\", special)"
   ]
  },
  {
   "cell_type": "code",
   "execution_count": 7,
   "metadata": {},
   "outputs": [
    {
     "name": "stdout",
     "output_type": "stream",
     "text": [
      "\n",
      "* \n",
      "* * \n",
      "* * * \n",
      "* * * * \n",
      "* * * * * \n",
      "* * * * \n",
      "* * * \n",
      "* * \n",
      "* \n"
     ]
    }
   ],
   "source": [
    "# Write a Python program to construct the following pattern\n",
    "\n",
    "n=5;\n",
    "for i in range(n):\n",
    "    for j in range(i):\n",
    "        print ('* ', end=\"\")\n",
    "    print('')\n",
    "\n",
    "for i in range(n,0,-1):\n",
    "    for j in range(i):\n",
    "        print('* ', end=\"\")\n",
    "    print('')"
   ]
  },
  {
   "cell_type": "code",
   "execution_count": 33,
   "metadata": {},
   "outputs": [
    {
     "name": "stdout",
     "output_type": "stream",
     "text": [
      "1 \n",
      "1 2 \n",
      "1 2 3 \n",
      "1 2 3 4 \n",
      "1 2 3 4 5 \n",
      "1 2 3 4 \n",
      "1 2 3 \n",
      "1 2 \n",
      "1 \n"
     ]
    }
   ],
   "source": [
    "# Write a Python program to construct the following pattern\n",
    "\n",
    "n = 5\n",
    "for i in range(1,n):\n",
    "    for j in range(1,i+1):\n",
    "        print(j,end=\" \")\n",
    "    print()\n",
    "for i in range(n,0,-1):\n",
    "    for j in range(1,i+1):\n",
    "        print(j,end=\" \")\n",
    "    print()      "
   ]
  },
  {
   "cell_type": "code",
   "execution_count": 5,
   "metadata": {},
   "outputs": [
    {
     "name": "stdout",
     "output_type": "stream",
     "text": [
      "1 \n",
      "1 2 \n",
      "1 2 3 \n",
      "1 2 3 4 \n",
      "1 2 3 4 5 \n",
      "1 2 3 4 5 6 \n",
      "1 2 3 4 5 6 7 \n",
      "1 2 3 4 5 6 7 8 \n",
      "1 2 3 4 5 6 7 8 9 \n"
     ]
    }
   ],
   "source": [
    "# Write a Python program to construct the following pattern\n",
    "\n",
    "n = 10\n",
    "for i in range(1,n):\n",
    "    for j in range(1,i+1):\n",
    "        print(j,end=\" \")\n",
    "    print()\n",
    "    "
   ]
  },
  {
   "cell_type": "code",
   "execution_count": null,
   "metadata": {},
   "outputs": [],
   "source": []
  }
 ],
 "metadata": {
  "kernelspec": {
   "display_name": "Python 3",
   "language": "python",
   "name": "python3"
  },
  "language_info": {
   "codemirror_mode": {
    "name": "ipython",
    "version": 3
   },
   "file_extension": ".py",
   "mimetype": "text/x-python",
   "name": "python",
   "nbconvert_exporter": "python",
   "pygments_lexer": "ipython3",
   "version": "3.7.3"
  }
 },
 "nbformat": 4,
 "nbformat_minor": 2
}
